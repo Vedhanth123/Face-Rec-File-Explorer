{
 "cells": [
  {
   "cell_type": "markdown",
   "id": "d1fd9a42",
   "metadata": {},
   "source": [
    "# Face Recognition Photo Organizer\n",
    "\n",
    "This notebook uses GPU acceleration in Google Colab to process your photos and organize them by faces.\n",
    "\n",
    "## Setup\n",
    "\n",
    "First, let's install the required libraries:"
   ]
  },
  {
   "cell_type": "code",
   "execution_count": null,
   "id": "6db170e5",
   "metadata": {},
   "outputs": [],
   "source": [
    "!pip install face_recognition opencv-python numpy scikit-learn pillow tqdm matplotlib"
   ]
  },
  {
   "cell_type": "markdown",
   "id": "9d080e27",
   "metadata": {},
   "source": [
    "## Mount Google Drive\n",
    "\n",
    "To persist your data between Colab sessions, we'll mount your Google Drive:"
   ]
  },
  {
   "cell_type": "code",
   "execution_count": null,
   "id": "0e83509f",
   "metadata": {},
   "outputs": [],
   "source": [
    "from google.colab import drive\n",
    "drive.mount('/content/drive')\n",
    "\n",
    "# Create a directory for your face recognition project\n",
    "!mkdir -p '/content/drive/MyDrive/FaceRecognitionProject'\n",
    "!mkdir -p '/content/drive/MyDrive/FaceRecognitionProject/photos'\n",
    "!mkdir -p '/content/drive/MyDrive/FaceRecognitionProject/output'"
   ]
  },
  {
   "cell_type": "markdown",
   "id": "b49c40ab",
   "metadata": {},
   "source": [
    "## Import the Face Recognition Code\n",
    "\n",
    "Upload the face_recognition_colab.py file to your Colab session or paste the code:"
   ]
  },
  {
   "cell_type": "code",
   "execution_count": null,
   "id": "6177c28c",
   "metadata": {},
   "outputs": [],
   "source": [
    "# @title Paste the CoLabFaceRecognitionExplorer class code here\n",
    "# You can either paste the code directly or upload the file using files.upload()\n",
    "\n",
    "# Option 1: Upload the file\n",
    "from google.colab import files\n",
    "uploaded = files.upload()  # Upload face_recognition_colab.py\n",
    "!cat face_recognition_colab.py > temp.py\n",
    "from temp import CoLabFaceRecognitionExplorer\n",
    "\n",
    "# Option 2: Paste the code here (uncomment and use if preferred)\n",
    "# import os\n",
    "# import pickle\n",
    "# import numpy as np\n",
    "# import cv2\n",
    "# import face_recognition\n",
    "# ...\n",
    "# class CoLabFaceRecognitionExplorer:\n",
    "#     ..."
   ]
  },
  {
   "cell_type": "markdown",
   "id": "9caa97f2",
   "metadata": {},
   "source": [
    "## Initialize the Face Recognition Explorer\n",
    "\n",
    "Now let's initialize the explorer with paths in Google Drive:"
   ]
  },
  {
   "cell_type": "code",
   "execution_count": null,
   "id": "b06d641f",
   "metadata": {},
   "outputs": [],
   "source": [
    "# Set paths to use Google Drive for persistence\n",
    "PHOTOS_DIR = '/content/drive/MyDrive/FaceRecognitionProject/photos'\n",
    "DATABASE_FILE = '/content/drive/MyDrive/FaceRecognitionProject/face_database.pkl'\n",
    "OUTPUT_DIR = '/content/drive/MyDrive/FaceRecognitionProject/output'\n",
    "\n",
    "# Initialize the explorer\n",
    "explorer = CoLabFaceRecognitionExplorer(PHOTOS_DIR, DATABASE_FILE)"
   ]
  },
  {
   "cell_type": "markdown",
   "id": "ab09687a",
   "metadata": {},
   "source": [
    "## Upload Photos\n",
    "\n",
    "Upload your photos (preferably in a zip file):"
   ]
  },
  {
   "cell_type": "code",
   "execution_count": null,
   "id": "cc76ea68",
   "metadata": {},
   "outputs": [],
   "source": [
    "explorer.upload_photos()"
   ]
  },
  {
   "cell_type": "markdown",
   "id": "0d198287",
   "metadata": {},
   "source": [
    "## Scan Photos for Faces\n",
    "\n",
    "Process the photos to detect faces using GPU acceleration:"
   ]
  },
  {
   "cell_type": "code",
   "execution_count": null,
   "id": "5dbf94c1",
   "metadata": {},
   "outputs": [],
   "source": [
    "# Use CNN model for GPU acceleration\n",
    "explorer.scan_photos(model='cnn')"
   ]
  },
  {
   "cell_type": "markdown",
   "id": "86b0c91c",
   "metadata": {},
   "source": [
    "## Visualize Face Clusters\n",
    "\n",
    "Group similar faces together and visualize them:"
   ]
  },
  {
   "cell_type": "code",
   "execution_count": null,
   "id": "ff4e15c0",
   "metadata": {},
   "outputs": [],
   "source": [
    "explorer.visualize_clusters(tolerance=0.6, max_clusters=10, faces_per_cluster=5)"
   ]
  },
  {
   "cell_type": "markdown",
   "id": "3324bc34",
   "metadata": {},
   "source": [
    "## Label Face Clusters\n",
    "\n",
    "Assign names to clusters of faces:"
   ]
  },
  {
   "cell_type": "code",
   "execution_count": null,
   "id": "32024288",
   "metadata": {},
   "outputs": [],
   "source": [
    "# Label cluster #0 as \"John\"\n",
    "# Replace \"John\" with the actual person's name\n",
    "explorer.label_cluster(0, \"John\")"
   ]
  },
  {
   "cell_type": "markdown",
   "id": "43cd9307",
   "metadata": {},
   "source": [
    "## Recognize Faces in All Photos\n",
    "\n",
    "Process all photos to find people you've labeled:"
   ]
  },
  {
   "cell_type": "code",
   "execution_count": null,
   "id": "019c7c83",
   "metadata": {},
   "outputs": [],
   "source": [
    "explorer.recognize_faces(model='cnn')"
   ]
  },
  {
   "cell_type": "markdown",
   "id": "889bf6b8",
   "metadata": {},
   "source": [
    "## Visualize Labeled Faces\n",
    "\n",
    "See photos for each labeled person:"
   ]
  },
  {
   "cell_type": "code",
   "execution_count": null,
   "id": "95ee5e2e",
   "metadata": {},
   "outputs": [],
   "source": [
    "explorer.visualize_labeled_faces()"
   ]
  },
  {
   "cell_type": "markdown",
   "id": "4c490ef3",
   "metadata": {},
   "source": [
    "## Export Results\n",
    "\n",
    "Download the face database and results:"
   ]
  },
  {
   "cell_type": "code",
   "execution_count": null,
   "id": "72ed99ce",
   "metadata": {},
   "outputs": [],
   "source": [
    "explorer.export_results()"
   ]
  },
  {
   "cell_type": "markdown",
   "id": "11c60914",
   "metadata": {},
   "source": [
    "## Save Database to Google Drive\n",
    "\n",
    "Make sure the database is saved to Google Drive for persistence:"
   ]
  },
  {
   "cell_type": "code",
   "execution_count": null,
   "id": "1016db28",
   "metadata": {},
   "outputs": [],
   "source": [
    "explorer.save_database()\n",
    "\n",
    "# Verify the database is saved in Google Drive\n",
    "!ls -la '/content/drive/MyDrive/FaceRecognitionProject/'"
   ]
  },
  {
   "cell_type": "markdown",
   "id": "4aad86f4",
   "metadata": {},
   "source": [
    "## Upload Existing Database\n",
    "\n",
    "If you have a previously created database:"
   ]
  },
  {
   "cell_type": "code",
   "execution_count": null,
   "id": "fe02738c",
   "metadata": {},
   "outputs": [],
   "source": [
    "# Uncomment and run this cell to upload a previously saved database\n",
    "# explorer.upload_database()"
   ]
  }
 ],
 "metadata": {
  "language_info": {
   "name": "python"
  }
 },
 "nbformat": 4,
 "nbformat_minor": 5
}
